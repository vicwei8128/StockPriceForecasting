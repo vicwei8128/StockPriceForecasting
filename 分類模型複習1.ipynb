{
 "cells": [
  {
   "cell_type": "markdown",
   "metadata": {},
   "source": [
    "# Logistic Regression  \n",
    "IRIS dataset description:  \n",
    "https://scikit-learn.org/stable/modules/generated/sklearn.datasets.load_iris.html    \n",
    "https://scikit-learn.org/stable/datasets/index.html#iris-dataset  \n",
    "logistic regression model:   \n",
    "http://scikit-learn.org/stable/modules/generated/sklearn.linear_model.LogisticRegression.html "
   ]
  },
  {
   "cell_type": "code",
   "execution_count": 1,
   "metadata": {},
   "outputs": [
    {
     "name": "stdout",
     "output_type": "stream",
     "text": [
      "[[-1.0169518   0.93320063 -1.71063824 -1.57995617]\n",
      " [ 0.64186897 -0.48170874 -0.2674308  -0.708515  ]\n",
      " [ 0.37508284 -0.4514919   1.97806903  2.28847117]]\n",
      "[0 1 1 0 2 1 2 0 0 2 1 0 2 1 1 0 1 1 0 0 1 1 2 0 2 1 0 0 1 2 1 2 1 2 2 0 1\n",
      " 0 1 2 2 0 1 2 1]\n",
      "0.9555555555555556\n"
     ]
    },
    {
     "data": {
      "text/plain": [
       "['logistic_model.joblib']"
      ]
     },
     "execution_count": 1,
     "metadata": {},
     "output_type": "execute_result"
    }
   ],
   "source": [
    "import numpy as np\n",
    "from sklearn.linear_model  import LogisticRegression\n",
    "from sklearn import datasets\n",
    "from sklearn.model_selection import train_test_split\n",
    "from sklearn import preprocessing\n",
    "from sklearn.metrics import accuracy_score, confusion_matrix\n",
    "\n",
    "# import some data to play with\n",
    "iris = datasets.load_iris()\n",
    "\n",
    "#X = iris.data[:, :2]  # we only take the first two features.\n",
    "X = iris.data\n",
    "y = iris.target\n",
    "#print(y)\n",
    "\n",
    "X_train,X_test,y_train,y_test=train_test_split(X,y,test_size=0.3,random_state=1) #random_state 種子值\n",
    "\n",
    "scaler = preprocessing.StandardScaler().fit(X_train)\n",
    "X_train = scaler.transform(X_train)\n",
    "\n",
    "model=LogisticRegression(n_jobs=-1)\n",
    "model.fit(X_train,y_train)\n",
    "\n",
    "X_test_nor = scaler.transform(X_test)\n",
    "y_pred = model.predict(X_test_nor)\n",
    "accuracy = accuracy_score(y_test, y_pred)\n",
    "\n",
    "print(model.coef_)\n",
    "#print prediction result\n",
    "print(y_pred)\n",
    "#print accuracy \n",
    "print(accuracy)\n",
    "\n",
    "from joblib import dump, load\n",
    "dump(model, 'logistic_model.joblib') "
   ]
  },
  {
   "cell_type": "code",
   "execution_count": 2,
   "metadata": {},
   "outputs": [
    {
     "name": "stdout",
     "output_type": "stream",
     "text": [
      "[[-1.0169518   0.93320063 -1.71063824 -1.57995617]\n",
      " [ 0.64186897 -0.48170874 -0.2674308  -0.708515  ]\n",
      " [ 0.37508284 -0.4514919   1.97806903  2.28847117]]\n",
      "[0 1 1 0 2 1 2 0 0 2 1 0 2 1 1 0 1 1 0 0 1 1 2 0 2 1 0 0 1 2 1 2 1 2 2 0 1\n",
      " 0 1 2 2 0 1 2 1]\n",
      "0.9555555555555556\n"
     ]
    }
   ],
   "source": [
    "logistic_model = load('logistic_model.joblib') \n",
    "\n",
    "y_pred = logistic_model.predict(X_test_nor)\n",
    "accuracy = logistic_model.score(X_test_nor, y_test)\n",
    "\n",
    "print(model.coef_)\n",
    "#print prediction result\n",
    "print(y_pred)\n",
    "#print accuracy \n",
    "print(accuracy)"
   ]
  },
  {
   "cell_type": "markdown",
   "metadata": {},
   "source": [
    "# K-Nearest Neighbor  \n",
    "IRIS dataset description:  \n",
    "https://scikit-learn.org/stable/modules/generated/sklearn.datasets.load_iris.html    \n",
    "https://scikit-learn.org/stable/datasets/index.html#iris-dataset  \n",
    "KNN model:   \n",
    "http://scikit-learn.org/stable/modules/generated/sklearn.neighbors.KNeighborsClassifier.html"
   ]
  },
  {
   "cell_type": "code",
   "execution_count": 6,
   "metadata": {},
   "outputs": [
    {
     "name": "stdout",
     "output_type": "stream",
     "text": [
      "number of correct sample: 27\n",
      "accuracy: 0.9\n",
      "confusion matrix: [[ 9  1  0]\n",
      " [ 0  8  0]\n",
      " [ 0  2 10]]\n"
     ]
    }
   ],
   "source": [
    "import numpy as np\n",
    "from sklearn import neighbors, datasets\n",
    "from sklearn.model_selection import train_test_split\n",
    "from sklearn import preprocessing\n",
    "from sklearn.metrics import accuracy_score, confusion_matrix\n",
    "\n",
    "# import some data to play with\n",
    "iris = datasets.load_iris()\n",
    "X = iris.data[:, :2] # we only take the first two features. \n",
    "#X = iris.data\n",
    "y = iris.target\n",
    "\n",
    "X_train, X_test, y_train, y_test = train_test_split(X, y, test_size=0.2)\n",
    "\n",
    "scaler = preprocessing.StandardScaler().fit(X_train)\n",
    "X_train = scaler.transform(X_train)\n",
    "\n",
    "model = neighbors.KNeighborsClassifier(n_neighbors=3)\n",
    "model.fit(X_train, y_train)\n",
    "\n",
    "\n",
    "X_test = scaler.transform(X_test)\n",
    "y_pred = model.predict(X_test)\n",
    "\n",
    "accuracy = accuracy_score(y_test, y_pred)\n",
    "num_correct_samples = accuracy_score(y_test, y_pred, normalize=False)\n",
    "con_matrix = confusion_matrix(y_test, y_pred)\n",
    "\n",
    "print('number of correct sample: {}'.format(num_correct_samples))\n",
    "print('accuracy: {}'.format(accuracy))\n",
    "print('confusion matrix: {}'.format(con_matrix))\n"
   ]
  },
  {
   "cell_type": "code",
   "execution_count": null,
   "metadata": {},
   "outputs": [],
   "source": []
  }
 ],
 "metadata": {
  "kernelspec": {
   "display_name": "Python 3 (ipykernel)",
   "language": "python",
   "name": "python3"
  },
  "language_info": {
   "codemirror_mode": {
    "name": "ipython",
    "version": 3
   },
   "file_extension": ".py",
   "mimetype": "text/x-python",
   "name": "python",
   "nbconvert_exporter": "python",
   "pygments_lexer": "ipython3",
   "version": "3.8.12"
  }
 },
 "nbformat": 4,
 "nbformat_minor": 2
}
