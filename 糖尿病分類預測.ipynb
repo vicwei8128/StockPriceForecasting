{
 "cells": [
  {
   "cell_type": "markdown",
   "metadata": {},
   "source": [
    "# Logistic Regression  \n",
    "dataset: https://www.kaggle.com/uciml/pima-indians-diabetes-database  \n",
    "model: https://scikit-learn.org/stable/modules/generated/sklearn.linear_model.LogisticRegression.html  "
   ]
  },
  {
   "cell_type": "code",
   "execution_count": 1,
   "metadata": {},
   "outputs": [
    {
     "name": "stdout",
     "output_type": "stream",
     "text": [
      "number of correct sample: 163\n",
      "accuracy: 0.7056277056277056\n"
     ]
    }
   ],
   "source": [
    "import pandas as pd\n",
    "import numpy as np\n",
    "from sklearn import preprocessing, linear_model\n",
    "from sklearn.model_selection import train_test_split\n",
    "from sklearn.linear_model  import LogisticRegression\n",
    "from sklearn.metrics import accuracy_score\n",
    "\n",
    "#1.讀取pima-indians-diabetes.csv資料\n",
    "\n",
    "#2.用'pregnant','insulin','bmi', 'age' 四個變數預測'label'(是否發病)\n",
    "\n",
    "#3.使用train_test_split將資料 7:3做分割，其中random_state=1\n",
    "\n",
    "\n",
    "#4.對訓練資料及測試資料做標準化\n",
    "\n",
    "\n",
    "#5.建立LogisticRegression並訓練\n",
    "\n",
    "\n",
    "#6.計算準確率\n",
    "\n",
    "print('number of correct sample: {}'.format(num_correct_samples))\n",
    "print('accuracy: {}'.format(accuracy))"
   ]
  },
  {
   "cell_type": "code",
   "execution_count": null,
   "metadata": {
    "collapsed": true
   },
   "outputs": [],
   "source": []
  }
 ],
 "metadata": {
  "kernelspec": {
   "display_name": "Python 3 (ipykernel)",
   "language": "python",
   "name": "python3"
  },
  "language_info": {
   "codemirror_mode": {
    "name": "ipython",
    "version": 3
   },
   "file_extension": ".py",
   "mimetype": "text/x-python",
   "name": "python",
   "nbconvert_exporter": "python",
   "pygments_lexer": "ipython3",
   "version": "3.8.12"
  }
 },
 "nbformat": 4,
 "nbformat_minor": 2
}
